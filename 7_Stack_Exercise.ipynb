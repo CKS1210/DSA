{
 "cells": [
  {
   "cell_type": "markdown",
   "id": "b1e22a8c",
   "metadata": {},
   "source": [
    "### Q1. Write a function in python that can reverse a string using stack data structure. Use [Stack class](https://github.com/codebasics/data-structures-algorithms-python/blob/master/data_structures/5_Stack/5_stack.ipynb) from the tutorial.\n",
    "```\n",
    "    reverse_string(\"We will conquere COVID-19\") should return \"91-DIVOC ereuqnoc lliw eW\"\n",
    "```"
   ]
  },
  {
   "cell_type": "code",
   "execution_count": 1,
   "id": "bcd3e443",
   "metadata": {},
   "outputs": [
    {
     "name": "stdout",
     "output_type": "stream",
     "text": [
      "Reverse string of <We will conquer COVID-19>:  91-DIVOC reuqnoc lliw eW\n",
      "Reverse string of <I am the king>:  gnik eht ma I\n"
     ]
    }
   ],
   "source": [
    "from collections import deque\n",
    "\n",
    "class Stack:\n",
    "    def __init__(self):\n",
    "        self.container = deque()\n",
    "        \n",
    "    def push(self, val):\n",
    "        self.container.append(val)\n",
    "        \n",
    "    def pop(self):\n",
    "        return self.container.pop()\n",
    "    \n",
    "    def peek(self):\n",
    "        return self.container[-1]\n",
    "    \n",
    "    def is_empty(self):\n",
    "        return len(self.container) == 0\n",
    "\n",
    "    def size(self):\n",
    "        return len(self.container)\n",
    "    \n",
    "def reverse_string(s):\n",
    "    stack = Stack()\n",
    "    \n",
    "    for ch in s:\n",
    "        stack.push(ch)\n",
    "        \n",
    "    rstr = \"\"\n",
    "    while stack.size() != 0:\n",
    "        rstr += stack.pop()\n",
    "    return rstr\n",
    "\n",
    "if __name__ == '__main__':\n",
    "    print(\"Reverse string of <We will conquer COVID-19>: \", reverse_string(\"We will conquer COVID-19\"))\n",
    "    print(\"Reverse string of <I am the king>: \", reverse_string(\"I am the king\"))"
   ]
  },
  {
   "cell_type": "markdown",
   "id": "228f2674",
   "metadata": {},
   "source": [
    "### Q2.  Write a function in python that checks if paranthesis in the string are balanced or not. Possible parantheses are \"{}',\"()\" or \"[]\". Use [Stack class](https://github.com/codebasics/data-structures-algorithms-python/blob/master/data_structures/5_Stack/5_stack.ipynb) from the tutorial.\n",
    "\n",
    "```\n",
    "    is_balanced(\"({a+b})\")     --> True\n",
    "    is_balanced(\"))((a+b}{\")   --> False\n",
    "    is_balanced(\"((a+b))\")     --> True\n",
    "    is_balanced(\"))\")          --> False\n",
    "    is_balanced(\"[a+b]*(x+2y)*{gg+kk}\") --> True\n",
    "```"
   ]
  },
  {
   "cell_type": "code",
   "execution_count": 22,
   "id": "ca8bbd6f",
   "metadata": {},
   "outputs": [
    {
     "name": "stdout",
     "output_type": "stream",
     "text": [
      "Is ({a+b}) balance?  True\n",
      "Is ))((a+b}{ balance?  False\n",
      "Is ((a+b)) balance?  True\n",
      "Is )) balance?  False\n",
      "Is [a+b]*(x+2y)*{gg+kk} balance?  True\n"
     ]
    }
   ],
   "source": [
    "class Stack:\n",
    "    def __init__(self):\n",
    "        self.items = []\n",
    "\n",
    "    def push(self, item):\n",
    "        self.items.append(item)\n",
    "\n",
    "    def pop(self):\n",
    "        return self.items.pop()\n",
    "\n",
    "    def size(self):\n",
    "        return len(self.items)\n",
    "    \n",
    "def is_match(ch1, ch2):\n",
    "    match_dict = {\n",
    "        ')': '(',\n",
    "        ']': '[',\n",
    "        '}': '{'\n",
    "    }\n",
    "    return match_dict[ch1] == ch2\n",
    "\n",
    "def is_balanced(s):\n",
    "    stack = Stack()\n",
    "    for ch in s:\n",
    "        if ch in '([{':\n",
    "            stack.push(ch)\n",
    "        elif ch in ')]}':\n",
    "            if stack.size() == 0:\n",
    "                return False\n",
    "            if not is_match(ch, stack.pop()):\n",
    "                return False        \n",
    "    return stack.size() == 0   # iterating through all the characters in string, \n",
    "                               # if all are matched, then the function will return True    \n",
    "                               # if the stack not empty, means there are unmatched opening brackets, so will return False \n",
    "\n",
    "if __name__ == '__main__':\n",
    "    print(\"Is ({a+b}) balance? \",is_balanced(\"({a+b})\"))\n",
    "    print(\"Is ))((a+b}{ balance? \",is_balanced(\"))((a+b}{\"))\n",
    "    print(\"Is ((a+b)) balance? \",is_balanced(\"((a+b))\"))\n",
    "    print(\"Is )) balance? \",is_balanced(\"))\"))\n",
    "    print(\"Is [a+b]*(x+2y)*{gg+kk} balance? \",is_balanced(\"[a+b]*(x+2y)*{gg+kk}\"))\n"
   ]
  }
 ],
 "metadata": {
  "kernelspec": {
   "display_name": "Python 3 (ipykernel)",
   "language": "python",
   "name": "python3"
  },
  "language_info": {
   "codemirror_mode": {
    "name": "ipython",
    "version": 3
   },
   "file_extension": ".py",
   "mimetype": "text/x-python",
   "name": "python",
   "nbconvert_exporter": "python",
   "pygments_lexer": "ipython3",
   "version": "3.11.5"
  }
 },
 "nbformat": 4,
 "nbformat_minor": 5
}
