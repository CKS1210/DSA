{
 "cells": [
  {
   "cell_type": "markdown",
   "id": "dd83a984",
   "metadata": {},
   "source": [
    "## Exercise 1:\n",
    "\n",
    "#### Let us say your expense for every month are listed below:\n",
    "\n",
    "#### i. January - 2200\n",
    "#### ii. February - 2350\n",
    "#### iii. March - 2600\n",
    "#### iv. April - 2130\n",
    "#### v. May - 2190 \n",
    "\n",
    "#### Create a list to store these monthly expenses and using that find out"
   ]
  },
  {
   "cell_type": "code",
   "execution_count": 1,
   "id": "208e0462",
   "metadata": {},
   "outputs": [],
   "source": [
    "expenses = [2200, 2350, 2600, 2130, 2190]"
   ]
  },
  {
   "cell_type": "markdown",
   "id": "90804eb1",
   "metadata": {},
   "source": [
    "###### Q1. In Feb, how many dollars you spent extra compare to January?"
   ]
  },
  {
   "cell_type": "code",
   "execution_count": 2,
   "id": "68edb7d0",
   "metadata": {},
   "outputs": [
    {
     "name": "stdout",
     "output_type": "stream",
     "text": [
      "Extra Money spent: 150\n"
     ]
    }
   ],
   "source": [
    "extra_money_spent = expenses[1] - expenses[0]\n",
    "print(\"Extra Money spent:\", extra_money_spent)"
   ]
  },
  {
   "cell_type": "markdown",
   "id": "045bd9d2",
   "metadata": {},
   "source": [
    "###### Q2. Find out your total expense in first quarter (first three months) of the year."
   ]
  },
  {
   "cell_type": "code",
   "execution_count": 3,
   "id": "7262015c",
   "metadata": {},
   "outputs": [
    {
     "name": "stdout",
     "output_type": "stream",
     "text": [
      "Total expense in first quarter: 7150\n"
     ]
    }
   ],
   "source": [
    "first_quarter = expenses[0] + expenses[1] + expenses[2]\n",
    "print(\"Total expense in first quarter:\", first_quarter)"
   ]
  },
  {
   "cell_type": "markdown",
   "id": "5a8f1731",
   "metadata": {},
   "source": [
    "###### Q3. Find out if you spent exactly 2000 dollars in any month"
   ]
  },
  {
   "cell_type": "code",
   "execution_count": 7,
   "id": "a15453d6",
   "metadata": {},
   "outputs": [
    {
     "name": "stdout",
     "output_type": "stream",
     "text": [
      "Any exact 2000 dollars spending: False\n"
     ]
    }
   ],
   "source": [
    "print(\"Any exact 2000 dollars spending:\", 2000 in expenses)"
   ]
  },
  {
   "cell_type": "markdown",
   "id": "b9caabac",
   "metadata": {},
   "source": [
    "###### Q4. June month just finished and your expense is 1980 dollar. Add this item to our monthly expense list"
   ]
  },
  {
   "cell_type": "code",
   "execution_count": 8,
   "id": "70b89350",
   "metadata": {},
   "outputs": [
    {
     "name": "stdout",
     "output_type": "stream",
     "text": [
      "[2200, 2350, 2600, 2130, 2190, 1980]\n"
     ]
    }
   ],
   "source": [
    "expenses.append(1980)\n",
    "\n",
    "print(expenses)"
   ]
  },
  {
   "cell_type": "markdown",
   "id": "dbcbdefc",
   "metadata": {},
   "source": [
    "###### Q5. You returned an item that you bought in a month of April and got a refund of $200. Make a correction to your monthly expense list based on this"
   ]
  },
  {
   "cell_type": "code",
   "execution_count": 9,
   "id": "8141f7ef",
   "metadata": {},
   "outputs": [
    {
     "data": {
      "text/plain": [
       "[2200, 2350, 2600, 1930, 2190, 1980]"
      ]
     },
     "execution_count": 9,
     "metadata": {},
     "output_type": "execute_result"
    }
   ],
   "source": [
    "expenses[3] = expenses[3] - 200\n",
    "\n",
    "expenses"
   ]
  },
  {
   "cell_type": "markdown",
   "id": "5fcfb5ce",
   "metadata": {},
   "source": [
    "## Exercise 2:\n",
    "\n",
    "#### You have a list of your favourite marvel super heros.\n",
    "\n",
    "#### heros = ['spider man','thor','hulk','iron man','captain america']\n",
    "\n",
    "#### Using this find out"
   ]
  },
  {
   "cell_type": "code",
   "execution_count": 21,
   "id": "c5da253d",
   "metadata": {},
   "outputs": [],
   "source": [
    "heros = ['spider man','thor','hulk','iron man','captain america']"
   ]
  },
  {
   "cell_type": "markdown",
   "id": "e34d38e4",
   "metadata": {},
   "source": [
    "###### Q1. Length of the list"
   ]
  },
  {
   "cell_type": "code",
   "execution_count": 17,
   "id": "549af25d",
   "metadata": {},
   "outputs": [
    {
     "name": "stdout",
     "output_type": "stream",
     "text": [
      "Length of the list: 5\n"
     ]
    }
   ],
   "source": [
    "print(\"Length of the list:\", len(heros))"
   ]
  },
  {
   "cell_type": "markdown",
   "id": "7169425f",
   "metadata": {},
   "source": [
    "###### Q2. Add 'black panther' at the end of this list"
   ]
  },
  {
   "cell_type": "code",
   "execution_count": 22,
   "id": "f34234ef",
   "metadata": {},
   "outputs": [
    {
     "data": {
      "text/plain": [
       "['spider man', 'thor', 'hulk', 'iron man', 'captain america', 'black panther']"
      ]
     },
     "execution_count": 22,
     "metadata": {},
     "output_type": "execute_result"
    }
   ],
   "source": [
    "heros.append(\"black panther\")\n",
    "\n",
    "heros"
   ]
  },
  {
   "cell_type": "markdown",
   "id": "9c1c3439",
   "metadata": {},
   "source": [
    "###### Q3. You realize that you need to add 'black panther' after 'hulk', so remove it from the list first and then add it after 'hulk'"
   ]
  },
  {
   "cell_type": "code",
   "execution_count": 23,
   "id": "fd64ad3f",
   "metadata": {},
   "outputs": [
    {
     "data": {
      "text/plain": [
       "['spider man', 'thor', 'hulk', 'black panther', 'iron man', 'captain america']"
      ]
     },
     "execution_count": 23,
     "metadata": {},
     "output_type": "execute_result"
    }
   ],
   "source": [
    "heros.remove(\"black panther\")\n",
    "\n",
    "heros.insert(3, 'black panther')\n",
    "\n",
    "heros"
   ]
  },
  {
   "cell_type": "markdown",
   "id": "c0cd5b3c",
   "metadata": {},
   "source": [
    "###### Q4. Now you don't like thor and hulk because they get angry easily :) So you want to remove thor and hulk from list and replace them with doctor strange (because he is cool). Do that with one line of code."
   ]
  },
  {
   "cell_type": "code",
   "execution_count": 24,
   "id": "2d504ce8",
   "metadata": {},
   "outputs": [
    {
     "data": {
      "text/plain": [
       "['spider man',\n",
       " 'doctor strange',\n",
       " 'black panther',\n",
       " 'iron man',\n",
       " 'captain america']"
      ]
     },
     "execution_count": 24,
     "metadata": {},
     "output_type": "execute_result"
    }
   ],
   "source": [
    "heros[1:3] = [\"doctor strange\"]\n",
    "\n",
    "heros"
   ]
  },
  {
   "cell_type": "markdown",
   "id": "6dc824dd",
   "metadata": {},
   "source": [
    "###### Q5. Sort the heros list in alphabetical order (Hint. Use dir() functions to list down all functions available in list)"
   ]
  },
  {
   "cell_type": "code",
   "execution_count": 25,
   "id": "dd456920",
   "metadata": {},
   "outputs": [
    {
     "data": {
      "text/plain": [
       "['black panther',\n",
       " 'captain america',\n",
       " 'doctor strange',\n",
       " 'iron man',\n",
       " 'spider man']"
      ]
     },
     "execution_count": 25,
     "metadata": {},
     "output_type": "execute_result"
    }
   ],
   "source": [
    "heros.sort()\n",
    "\n",
    "heros"
   ]
  },
  {
   "cell_type": "markdown",
   "id": "4d77d6e9",
   "metadata": {},
   "source": [
    "## Exercise 3:\n",
    "\n",
    "#### Create a list of all odd numbers between 1 and a max number. Max number is something you need to take from a user using input() function"
   ]
  },
  {
   "cell_type": "code",
   "execution_count": 30,
   "id": "4afae51b",
   "metadata": {},
   "outputs": [
    {
     "name": "stdout",
     "output_type": "stream",
     "text": [
      "Enter MAX number:45\n",
      "odd number: [1, 3, 5, 7, 9, 11, 13, 15, 17, 19, 21, 23, 25, 27, 29, 31, 33, 35, 37, 39, 41, 43]\n"
     ]
    }
   ],
   "source": [
    "max_number = int(input(\"Enter MAX number:\"))\n",
    "\n",
    "odd_number = []\n",
    "\n",
    "for i in range(1, max_number):\n",
    "    if i % 2 == 1:\n",
    "        odd_number.append(i)\n",
    "        \n",
    "        \n",
    "print(\"odd number:\", odd_number)"
   ]
  },
  {
   "cell_type": "code",
   "execution_count": null,
   "id": "4bf0428e",
   "metadata": {},
   "outputs": [],
   "source": []
  },
  {
   "cell_type": "code",
   "execution_count": null,
   "id": "4ae23e33",
   "metadata": {},
   "outputs": [],
   "source": []
  }
 ],
 "metadata": {
  "kernelspec": {
   "display_name": "Python 3 (ipykernel)",
   "language": "python",
   "name": "python3"
  },
  "language_info": {
   "codemirror_mode": {
    "name": "ipython",
    "version": 3
   },
   "file_extension": ".py",
   "mimetype": "text/x-python",
   "name": "python",
   "nbconvert_exporter": "python",
   "pygments_lexer": "ipython3",
   "version": "3.11.5"
  }
 },
 "nbformat": 4,
 "nbformat_minor": 5
}
